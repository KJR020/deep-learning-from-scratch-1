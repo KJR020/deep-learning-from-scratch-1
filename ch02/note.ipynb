{
 "cells": [
  {
   "cell_type": "code",
   "execution_count": 1,
   "metadata": {},
   "outputs": [],
   "source": [
    "import numpy "
   ]
  },
  {
   "cell_type": "code",
   "execution_count": 2,
   "metadata": {},
   "outputs": [],
   "source": [
    "def AND(x1, x2):\n",
    "    w1, w2, theta = 0.5,0.5, 0.7\n",
    "    tmp = x1*w1 + x2*w2\n",
    "    if tmp <= theta:\n",
    "        return 0\n",
    "    elif tmp > theta:\n",
    "        return 1"
   ]
  },
  {
   "cell_type": "code",
   "execution_count": 8,
   "metadata": {},
   "outputs": [
    {
     "name": "stdout",
     "output_type": "stream",
     "text": [
      "AND(0,0) = 0 \n",
      "AND(0,1) = 0 \n",
      "AND(1,0) = 0 \n",
      "AND(1,1) = 1 \n"
     ]
    }
   ],
   "source": [
    "for x1 in range(0, 2):\n",
    "    for x2 in range(0, 2):\n",
    "        print(f\"AND({x1},{x2}) = {AND(x1,x2)} \")"
   ]
  },
  {
   "cell_type": "code",
   "execution_count": 13,
   "metadata": {},
   "outputs": [],
   "source": [
    "def NAND(x1,x2):\n",
    "    if AND(x1,x2) == 1:\n",
    "        return 0\n",
    "    elif AND(x1,x2) == 0:\n",
    "        return 1"
   ]
  },
  {
   "cell_type": "code",
   "execution_count": 14,
   "metadata": {},
   "outputs": [
    {
     "name": "stdout",
     "output_type": "stream",
     "text": [
      "NAND(0,0) = 1 \n",
      "NAND(0,1) = 1 \n",
      "NAND(1,0) = 1 \n",
      "NAND(1,1) = 0 \n"
     ]
    }
   ],
   "source": [
    "for x1 in range(0, 2):\n",
    "    for x2 in range(0, 2):\n",
    "        print(f\"NAND({x1},{x2}) = {NAND(x1,x2)} \")"
   ]
  },
  {
   "cell_type": "code",
   "execution_count": null,
   "metadata": {},
   "outputs": [],
   "source": []
  }
 ],
 "metadata": {
  "kernelspec": {
   "display_name": "Python 3.8.12 ('DeepLearning')",
   "language": "python",
   "name": "python3"
  },
  "language_info": {
   "codemirror_mode": {
    "name": "ipython",
    "version": 3
   },
   "file_extension": ".py",
   "mimetype": "text/x-python",
   "name": "python",
   "nbconvert_exporter": "python",
   "pygments_lexer": "ipython3",
   "version": "3.8.12"
  },
  "orig_nbformat": 4,
  "vscode": {
   "interpreter": {
    "hash": "f80a70006cce777dbb141d4de6ff4ff2d615b7f30dd55bb169c601b891c82bdc"
   }
  }
 },
 "nbformat": 4,
 "nbformat_minor": 2
}
